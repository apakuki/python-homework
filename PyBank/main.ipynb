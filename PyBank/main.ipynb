{
 "cells": [
  {
   "cell_type": "markdown",
   "metadata": {},
   "source": [
    "### Importing libraries for Operating System level operation\n",
    "* os - Library containing Operating System methods\n",
    "* csv - Library containing CSV file methods"
   ]
  },
  {
   "cell_type": "code",
   "execution_count": 100,
   "metadata": {},
   "outputs": [],
   "source": [
    "import os\n",
    "import csv"
   ]
  },
  {
   "cell_type": "markdown",
   "metadata": {},
   "source": []
  },
  {
   "cell_type": "markdown",
   "metadata": {},
   "source": [
    "### Importing libraries for Filesystem Path operations\n",
    "* pathlib - Library containing Filesystem Path methods"
   ]
  },
  {
   "cell_type": "code",
   "execution_count": 101,
   "metadata": {},
   "outputs": [],
   "source": [
    "from pathlib import Path "
   ]
  },
  {
   "cell_type": "markdown",
   "metadata": {},
   "source": [
    "### Initialising variables and setting Path to dataset location"
   ]
  },
  {
   "cell_type": "code",
   "execution_count": 102,
   "metadata": {},
   "outputs": [],
   "source": [
    "\n",
    "relative_csvfilepath = Path(\"./Resources/budget_data.csv\") # Relative path to the file\n",
    "\n",
    "m_pnl_dataset = {}          # Initialise Dictionary to hold data to be read in from the CSV file\n",
    "\n",
    "number_of_months = 0        # The total number of months included in the dataset.\n",
    "\n",
    "monthly_pnl = 0             # Individual monthly Profit/Loss\n",
    "\n",
    "pnl_list = []               # List of monthly Profit/Loss      \n",
    "\n",
    "total_pnl = 0               # The total profit or loss over the entire period of 'number_of_months'\n",
    "\n",
    "avg_change_pnl = 0          # The average of the changes in Profit/Losses over the entire period.\n",
    "\n",
    "max_profit_amount = 0       # The greatest increase in profits (date and amount) over the entire period.\n",
    "max_profit_month = ''\n",
    "\n",
    "max_loss_amount = 0         # The greatest decrease in losses (date and amount) over the entire period.\n",
    "max_loss_month = ''\n",
    "\n"
   ]
  },
  {
   "cell_type": "markdown",
   "metadata": {},
   "source": [
    "### Import dataset into working memory"
   ]
  },
  {
   "cell_type": "code",
   "execution_count": 103,
   "metadata": {},
   "outputs": [],
   "source": [
    "from calendar import monthcalendar\n",
    "\n",
    "\n",
    "with open(relative_csvfilepath, 'r') as csvfile:\n",
    "\n",
    "    # Pass in the csv file to the csv.reader() method\n",
    "    # (with ',' as the delmiter/separator) and return the csvreader object\n",
    "    csvreader = csv.reader(csvfile, delimiter=',')\n",
    "\n",
    "    # Go to the next row from the start of the file\n",
    "    # (which is often the first row/header) and iterate line_num by 1\n",
    "    header = next(csvreader)\n",
    "    \n",
    "    # Read each row of data after the header\n",
    "    for row in csvreader:\n",
    "        number_of_months += 1\n",
    "        # Print the row\n",
    "        #print(row)\n",
    "        # Set monthly_pnl variable equal to the value in the 1st column of each row\n",
    "        monthly_pnl = int(row[1])\n",
    "        total_pnl += monthly_pnl\n",
    "        m_pnl_dataset[row[0]] = int(row[1])\n",
    "        # Append the row pnl value to the list of monthly_pnl\n",
    "        pnl_list.append(monthly_pnl)\n",
    "        \n",
    "        \n",
    "\n"
   ]
  },
  {
   "cell_type": "markdown",
   "metadata": {},
   "source": [
    "### Calculate Financial Analysis Outputs"
   ]
  },
  {
   "cell_type": "code",
   "execution_count": 111,
   "metadata": {},
   "outputs": [
    {
     "name": "stdout",
     "output_type": "stream",
     "text": [
      "{'Jan-2010': 867884, 'Feb-2010': 984655, 'Mar-2010': 322013, 'Apr-2010': -69417, 'May-2010': 310503, 'Jun-2010': 522857, 'Jul-2010': 1033096, 'Aug-2010': 604885, 'Sep-2010': -216386, 'Oct-2010': 477532, 'Nov-2010': 893810, 'Dec-2010': -80353, 'Jan-2011': 779806, 'Feb-2011': -335203, 'Mar-2011': 697845, 'Apr-2011': 793163, 'May-2011': 485070, 'Jun-2011': 584122, 'Jul-2011': 62729, 'Aug-2011': 668179, 'Sep-2011': 899906, 'Oct-2011': 834719, 'Nov-2011': 132003, 'Dec-2011': 309978, 'Jan-2012': -755566, 'Feb-2012': 1170593, 'Mar-2012': 252788, 'Apr-2012': 1151518, 'May-2012': 817256, 'Jun-2012': 570757, 'Jul-2012': 506702, 'Aug-2012': -1022534, 'Sep-2012': 475062, 'Oct-2012': 779976, 'Nov-2012': 144175, 'Dec-2012': 542494, 'Jan-2013': 359333, 'Feb-2013': 321469, 'Mar-2013': 67780, 'Apr-2013': 471435, 'May-2013': 565603, 'Jun-2013': 872480, 'Jul-2013': 789480, 'Aug-2013': 999942, 'Sep-2013': -1196225, 'Oct-2013': 268997, 'Nov-2013': -687986, 'Dec-2013': 1150461, 'Jan-2014': 682458, 'Feb-2014': 617856, 'Mar-2014': 824098, 'Apr-2014': 581943, 'May-2014': 132864, 'Jun-2014': 448062, 'Jul-2014': 689161, 'Aug-2014': 800701, 'Sep-2014': 1166643, 'Oct-2014': 947333, 'Nov-2014': 578668, 'Dec-2014': 988505, 'Jan-2015': 1139715, 'Feb-2015': 1029471, 'Mar-2015': 687533, 'Apr-2015': -524626, 'May-2015': 158620, 'Jun-2015': 87795, 'Jul-2015': 423389, 'Aug-2015': 840723, 'Sep-2015': 568529, 'Oct-2015': 332067, 'Nov-2015': 989499, 'Dec-2015': 778237, 'Jan-2016': 650000, 'Feb-2016': -1100387, 'Mar-2016': -174946, 'Apr-2016': 757143, 'May-2016': 445709, 'Jun-2016': 712961, 'Jul-2016': -1163797, 'Aug-2016': 569899, 'Sep-2016': 768450, 'Oct-2016': 102685, 'Nov-2016': 795914, 'Dec-2016': 60988, 'Jan-2017': 138230, 'Feb-2017': 671099}\n"
     ]
    }
   ],
   "source": [
    "#The average of the changes in Profit/Losses over the entire period.\n",
    "\n",
    "avg_change_pnl = round(total_pnl / number_of_months, 2)\n",
    "\n",
    "\n",
    "# print(pnl_list)\n",
    "\n",
    "# total = 0\n",
    "# for i in pnl_list:\n",
    "#     total += i\n",
    "\n",
    "# print(\"*** Test: \", round((total / number_of_months),2))    \n",
    "# The greatest increase in profits (date and amount) over the entire period.\n",
    "# The greatest decrease in losses (date and amount) over the entire period.\n",
    "\n",
    "\n",
    "#     # Logic to determine min and max salaries\n",
    "\n",
    "print(m_pnl_dataset)\n",
    "#for row in m_pnl_dataset:\n",
    "    #print(row)\n",
    "    # if max_loss_amount == 0:\n",
    "    #     max_loss_amount = row[1]\n",
    "    #     max_loss_month = row[0]\n",
    "    # elif int(row[1]) > max_profit_amount:\n",
    "    #     max_profit_amount = row[1]\n",
    "    #     max_profit_month = row[0]\n",
    "    # elif int(row[1]) < max_loss_amount:\n",
    "    #     max_loss_amount = row[1]\n",
    "    #     max_loss_month = row[0]\n",
    "        "
   ]
  },
  {
   "cell_type": "markdown",
   "metadata": {},
   "source": [
    "### Print Financial Ananlysis Output\n",
    "* The total number of months included in the dataset.\n",
    "\n",
    "* The net total amount of Profit/Losses over the entire period.\n",
    "\n",
    "* The average of the changes in Profit/Losses over the entire period.\n",
    "\n",
    "* The greatest increase in profits (date and amount) over the entire period.\n",
    "\n",
    "* The greatest decrease in losses (date and amount) over the entire period.\n",
    "\n",
    "```\n",
    " Financial Analysis\n",
    "----------------------------\n",
    "Total Months: 86\n",
    "Total: $38382578\n",
    "Average  Change: $-2315.12\n",
    "Greatest Increase in Profits: Feb-2012 ($1926159)\n",
    "Greatest Decrease in Profits: Sep-2013 ($-2196167)\n",
    "```"
   ]
  },
  {
   "cell_type": "code",
   "execution_count": null,
   "metadata": {},
   "outputs": [
    {
     "name": "stdout",
     "output_type": "stream",
     "text": [
      "{'Jan-2010': 867884, 'Feb-2010': 984655, 'Mar-2010': 322013, 'Apr-2010': -69417, 'May-2010': 310503, 'Jun-2010': 522857, 'Jul-2010': 1033096, 'Aug-2010': 604885, 'Sep-2010': -216386, 'Oct-2010': 477532, 'Nov-2010': 893810, 'Dec-2010': -80353, 'Jan-2011': 779806, 'Feb-2011': -335203, 'Mar-2011': 697845, 'Apr-2011': 793163, 'May-2011': 485070, 'Jun-2011': 584122, 'Jul-2011': 62729, 'Aug-2011': 668179, 'Sep-2011': 899906, 'Oct-2011': 834719, 'Nov-2011': 132003, 'Dec-2011': 309978, 'Jan-2012': -755566, 'Feb-2012': 1170593, 'Mar-2012': 252788, 'Apr-2012': 1151518, 'May-2012': 817256, 'Jun-2012': 570757, 'Jul-2012': 506702, 'Aug-2012': -1022534, 'Sep-2012': 475062, 'Oct-2012': 779976, 'Nov-2012': 144175, 'Dec-2012': 542494, 'Jan-2013': 359333, 'Feb-2013': 321469, 'Mar-2013': 67780, 'Apr-2013': 471435, 'May-2013': 565603, 'Jun-2013': 872480, 'Jul-2013': 789480, 'Aug-2013': 999942, 'Sep-2013': -1196225, 'Oct-2013': 268997, 'Nov-2013': -687986, 'Dec-2013': 1150461, 'Jan-2014': 682458, 'Feb-2014': 617856, 'Mar-2014': 824098, 'Apr-2014': 581943, 'May-2014': 132864, 'Jun-2014': 448062, 'Jul-2014': 689161, 'Aug-2014': 800701, 'Sep-2014': 1166643, 'Oct-2014': 947333, 'Nov-2014': 578668, 'Dec-2014': 988505, 'Jan-2015': 1139715, 'Feb-2015': 1029471, 'Mar-2015': 687533, 'Apr-2015': -524626, 'May-2015': 158620, 'Jun-2015': 87795, 'Jul-2015': 423389, 'Aug-2015': 840723, 'Sep-2015': 568529, 'Oct-2015': 332067, 'Nov-2015': 989499, 'Dec-2015': 778237, 'Jan-2016': 650000, 'Feb-2016': -1100387, 'Mar-2016': -174946, 'Apr-2016': 757143, 'May-2016': 445709, 'Jun-2016': 712961, 'Jul-2016': -1163797, 'Aug-2016': 569899, 'Sep-2016': 768450, 'Oct-2016': 102685, 'Nov-2016': 795914, 'Dec-2016': 60988, 'Jan-2017': 138230, 'Feb-2017': 671099}\n",
      "Financial Analysis \n",
      "----------------------------\n",
      "Total months:  86\n",
      "Total: $ 38382578\n",
      "Average Change:  446309.05\n",
      "Greatest Increase in Profits: $ 0\n",
      "Greatest Decrease in Profits: $ a\n"
     ]
    }
   ],
   "source": [
    "# Output block\n",
    "\n",
    "print(m_pnl_dataset)\n",
    "\n",
    "print('Financial Analysis ')\n",
    "print('----------------------------')\n",
    "print('Total months: ', number_of_months)\n",
    "print('Total: $', total_pnl)\n",
    "print('Average Change: ', avg_change_pnl)\n",
    "# print('Greatest Increase in Profits: $', max_profit_amount, + '(',max_profit_month,')')\n",
    "# print('Greatest Decrease in Profits: $', max_loss_amount, + '(',max_loss_month,')')\n",
    "print('Greatest Increase in Profits: $', max_profit_amount)\n",
    "print('Greatest Decrease in Profits: $', max_loss_amount)\n",
    "#print(number_of_months)"
   ]
  },
  {
   "cell_type": "code",
   "execution_count": null,
   "metadata": {},
   "outputs": [],
   "source": []
  }
 ],
 "metadata": {
  "kernelspec": {
   "display_name": "Python 3.9.12 ('base')",
   "language": "python",
   "name": "python3"
  },
  "language_info": {
   "codemirror_mode": {
    "name": "ipython",
    "version": 3
   },
   "file_extension": ".py",
   "mimetype": "text/x-python",
   "name": "python",
   "nbconvert_exporter": "python",
   "pygments_lexer": "ipython3",
   "version": "3.9.12"
  },
  "orig_nbformat": 4,
  "vscode": {
   "interpreter": {
    "hash": "c456f17b63525dd1fcde487470240e1db655d3530ed545682dd82e8dd325ec4c"
   }
  }
 },
 "nbformat": 4,
 "nbformat_minor": 2
}
