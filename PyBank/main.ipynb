{
 "cells": [
  {
   "cell_type": "markdown",
   "metadata": {},
   "source": [
    "### Importing libraries for Operating System level operation\n",
    "* os - Library containing Operating System methods\n",
    "* csv - Library containing CSV file methods"
   ]
  },
  {
   "cell_type": "code",
   "execution_count": 66,
   "metadata": {},
   "outputs": [],
   "source": [
    "import os\n",
    "import csv"
   ]
  },
  {
   "cell_type": "markdown",
   "metadata": {},
   "source": []
  },
  {
   "cell_type": "markdown",
   "metadata": {},
   "source": [
    "### Importing libraries for Filesystem Path operations\n",
    "* pathlib - Library containing Filesystem Path methods"
   ]
  },
  {
   "cell_type": "code",
   "execution_count": 67,
   "metadata": {},
   "outputs": [],
   "source": [
    "from pathlib import Path "
   ]
  },
  {
   "cell_type": "markdown",
   "metadata": {},
   "source": [
    "### Initialising variables and setting Path to dataset location"
   ]
  },
  {
   "cell_type": "code",
   "execution_count": 68,
   "metadata": {},
   "outputs": [],
   "source": [
    "\n",
    "relative_csvfilepath = Path(\"./Resources/budget_data.csv\") # Relative path to the file\n",
    "\n",
    "m_pnl_dataset = {}          # Initialise Dictionary to hold data to be read in from the CSV file\n",
    "\n",
    "number_of_months = 0        # The total number of months included in the dataset.\n",
    "\n",
    "monthly_pnl = 0             # Individual monthly Profit/Loss\n",
    "\n",
    "pnl_list = []               # List of monthly Profit/Loss      \n",
    "\n",
    "total_pnl = 0               # The total profit or loss over the entire period of 'number_of_months'\n",
    "\n",
    "ave_change_pnl = 0          # The average of the changes in Profit/Losses over the entire period.\n",
    "\n",
    "max_profit = 0              # The greatest increase in profits (date and amount) over the entire period.\n",
    "\n",
    "max_loss = 0                # The greatest decrease in losses (date and amount) over the entire period.\n",
    "\n"
   ]
  },
  {
   "cell_type": "markdown",
   "metadata": {},
   "source": [
    "### Import dataset into working memory"
   ]
  },
  {
   "cell_type": "code",
   "execution_count": 69,
   "metadata": {},
   "outputs": [],
   "source": [
    "from calendar import monthcalendar\n",
    "\n",
    "\n",
    "with open(relative_csvfilepath, 'r') as csvfile:\n",
    "\n",
    "    # Pass in the csv file to the csv.reader() method\n",
    "    # (with ',' as the delmiter/separator) and return the csvreader object\n",
    "    csvreader = csv.reader(csvfile, delimiter=',')\n",
    "\n",
    "    # Go to the next row from the start of the file\n",
    "    # (which is often the first row/header) and iterate line_num by 1\n",
    "    header = next(csvreader)\n",
    "    \n",
    "    # Read each row of data after the header\n",
    "    for row in csvreader:\n",
    "        number_of_months += 1\n",
    "        # Print the row\n",
    "        #print(row)\n",
    "        # Set monthly_pnl variable equal to the value in the 1st column of each row\n",
    "        monthly_pnl = int(row[1])\n",
    "        total_pnl += monthly_pnl\n",
    "        m_pnl_dataset[row[0]] = int(row[1])\n",
    "        # Append the row pnl value to the list of monthly_pnl\n",
    "        pnl_list.append(monthly_pnl)\n",
    "        \n",
    "        \n"
   ]
  },
  {
   "cell_type": "markdown",
   "metadata": {},
   "source": [
    "### Print Financial Ananlysis Output\n",
    "* The total number of months included in the dataset.\n",
    "\n",
    "* The net total amount of Profit/Losses over the entire period.\n",
    "\n",
    "* The average of the changes in Profit/Losses over the entire period.\n",
    "\n",
    "* The greatest increase in profits (date and amount) over the entire period.\n",
    "\n",
    "* The greatest decrease in losses (date and amount) over the entire period.\n",
    "\n",
    "```\n",
    " Financial Analysis\n",
    "----------------------------\n",
    "Total Months: 86\n",
    "Total: $38382578\n",
    "Average  Change: $-2315.12\n",
    "Greatest Increase in Profits: Feb-2012 ($1926159)\n",
    "Greatest Decrease in Profits: Sep-2013 ($-2196167)\n",
    "```"
   ]
  },
  {
   "cell_type": "code",
   "execution_count": 74,
   "metadata": {},
   "outputs": [
    {
     "name": "stdout",
     "output_type": "stream",
     "text": [
      "Financial Analysis \n",
      "----------------------------\n",
      "Total months:  86\n",
      "Total: $\n",
      "Average Change: \n",
      "Greatest Increase in Profits: \n",
      "Greatest Decrease in Profits: \n",
      "86\n"
     ]
    }
   ],
   "source": [
    "# Output block\n",
    "\n",
    "print('Financial Analysis ')\n",
    "print('----------------------------')\n",
    "print('Total months: ', number_of_months)\n",
    "print('Total: $')\n",
    "print('Average Change: ')\n",
    "print('Greatest Increase in Profits: ')\n",
    "print('Greatest Decrease in Profits: ')\n",
    "\n",
    "#print(number_of_months)"
   ]
  },
  {
   "cell_type": "code",
   "execution_count": null,
   "metadata": {},
   "outputs": [],
   "source": []
  }
 ],
 "metadata": {
  "kernelspec": {
   "display_name": "Python 3.9.12 ('base')",
   "language": "python",
   "name": "python3"
  },
  "language_info": {
   "codemirror_mode": {
    "name": "ipython",
    "version": 3
   },
   "file_extension": ".py",
   "mimetype": "text/x-python",
   "name": "python",
   "nbconvert_exporter": "python",
   "pygments_lexer": "ipython3",
   "version": "3.9.12"
  },
  "orig_nbformat": 4,
  "vscode": {
   "interpreter": {
    "hash": "c456f17b63525dd1fcde487470240e1db655d3530ed545682dd82e8dd325ec4c"
   }
  }
 },
 "nbformat": 4,
 "nbformat_minor": 2
}
