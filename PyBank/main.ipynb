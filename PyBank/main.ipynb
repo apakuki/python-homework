{
 "cells": [
  {
   "cell_type": "markdown",
   "metadata": {},
   "source": [
    "### Importing libraries for Operating System level operation\n",
    "* os - Library containing Operating System methods\n",
    "* csv - Library containing CSV file methods"
   ]
  },
  {
   "cell_type": "code",
   "execution_count": 15,
   "metadata": {},
   "outputs": [],
   "source": [
    "import os\n",
    "import csv"
   ]
  },
  {
   "cell_type": "markdown",
   "metadata": {},
   "source": []
  },
  {
   "cell_type": "markdown",
   "metadata": {},
   "source": [
    "### Importing libraries for Filesystem Path operations\n",
    "* pathlib - Library containing Filesystem Path methods"
   ]
  },
  {
   "cell_type": "code",
   "execution_count": 16,
   "metadata": {},
   "outputs": [],
   "source": [
    "from pathlib import Path "
   ]
  },
  {
   "cell_type": "markdown",
   "metadata": {},
   "source": [
    "### Initialising variables and setting Path to dataset location"
   ]
  },
  {
   "cell_type": "code",
   "execution_count": 17,
   "metadata": {},
   "outputs": [],
   "source": [
    "\n",
    "relative_csvfilepath = Path(\"./Resources/budget_data.csv\") # Relative path to the file\n",
    "\n",
    "m_pnl_dataset = {}          # Initialise Dictionary to hold data to be read in from the CSV file\n",
    "\n",
    "number_of_months = 0        # The total number of months included in the dataset.\n",
    "\n",
    "monthly_pnl = 0             # Individual monthly Profit/Loss\n",
    "\n",
    "prev_monthly_pnl = 0        # Previous Individual monthly Profit/Loss\n",
    "\n",
    "monthly_pnl_diff = 0\n",
    "\n",
    "first_record = []           # First Individual monthly Profit/Loss\n",
    "\n",
    "pnl_diff_list = []          # List of monthly Profit/Loss      \n",
    "\n",
    "total_pnl = 0               # The total profit or loss over the entire period of 'number_of_months'\n",
    "\n",
    "avg_change_pnl = 0          # The average of the changes in Profit/Losses over the entire period.\n",
    "\n",
    "max_profit_amount = 0       # The greatest increase in profits (date and amount) over the entire period.\n",
    "max_profit_month = ''\n",
    "\n",
    "max_loss_amount = 0         # The greatest decrease in losses (date and amount) over the entire period.\n",
    "max_loss_month = ''\n",
    "\n"
   ]
  },
  {
   "cell_type": "markdown",
   "metadata": {},
   "source": [
    "### Import dataset into working memory"
   ]
  },
  {
   "cell_type": "code",
   "execution_count": 19,
   "metadata": {},
   "outputs": [
    {
     "name": "stdout",
     "output_type": "stream",
     "text": [
      "['Feb-2010', '984655']\n",
      "['Mar-2010', '322013']\n",
      "['Apr-2010', '-69417']\n",
      "['May-2010', '310503']\n",
      "['Jun-2010', '522857']\n",
      "['Jul-2010', '1033096']\n",
      "['Aug-2010', '604885']\n",
      "['Sep-2010', '-216386']\n",
      "['Oct-2010', '477532']\n",
      "['Nov-2010', '893810']\n",
      "['Dec-2010', '-80353']\n",
      "['Jan-2011', '779806']\n",
      "['Feb-2011', '-335203']\n",
      "['Mar-2011', '697845']\n",
      "['Apr-2011', '793163']\n",
      "['May-2011', '485070']\n",
      "['Jun-2011', '584122']\n",
      "['Jul-2011', '62729']\n",
      "['Aug-2011', '668179']\n",
      "['Sep-2011', '899906']\n",
      "['Oct-2011', '834719']\n",
      "['Nov-2011', '132003']\n",
      "['Dec-2011', '309978']\n",
      "['Jan-2012', '-755566']\n",
      "['Feb-2012', '1170593']\n",
      "['Mar-2012', '252788']\n",
      "['Apr-2012', '1151518']\n",
      "['May-2012', '817256']\n",
      "['Jun-2012', '570757']\n",
      "['Jul-2012', '506702']\n",
      "['Aug-2012', '-1022534']\n",
      "['Sep-2012', '475062']\n",
      "['Oct-2012', '779976']\n",
      "['Nov-2012', '144175']\n",
      "['Dec-2012', '542494']\n",
      "['Jan-2013', '359333']\n",
      "['Feb-2013', '321469']\n",
      "['Mar-2013', '67780']\n",
      "['Apr-2013', '471435']\n",
      "['May-2013', '565603']\n",
      "['Jun-2013', '872480']\n",
      "['Jul-2013', '789480']\n",
      "['Aug-2013', '999942']\n",
      "['Sep-2013', '-1196225']\n",
      "['Oct-2013', '268997']\n",
      "['Nov-2013', '-687986']\n",
      "['Dec-2013', '1150461']\n",
      "['Jan-2014', '682458']\n",
      "['Feb-2014', '617856']\n",
      "['Mar-2014', '824098']\n",
      "['Apr-2014', '581943']\n",
      "['May-2014', '132864']\n",
      "['Jun-2014', '448062']\n",
      "['Jul-2014', '689161']\n",
      "['Aug-2014', '800701']\n",
      "['Sep-2014', '1166643']\n",
      "['Oct-2014', '947333']\n",
      "['Nov-2014', '578668']\n",
      "['Dec-2014', '988505']\n",
      "['Jan-2015', '1139715']\n",
      "['Feb-2015', '1029471']\n",
      "['Mar-2015', '687533']\n",
      "['Apr-2015', '-524626']\n",
      "['May-2015', '158620']\n",
      "['Jun-2015', '87795']\n",
      "['Jul-2015', '423389']\n",
      "['Aug-2015', '840723']\n",
      "['Sep-2015', '568529']\n",
      "['Oct-2015', '332067']\n",
      "['Nov-2015', '989499']\n",
      "['Dec-2015', '778237']\n",
      "['Jan-2016', '650000']\n",
      "['Feb-2016', '-1100387']\n",
      "['Mar-2016', '-174946']\n",
      "['Apr-2016', '757143']\n",
      "['May-2016', '445709']\n",
      "['Jun-2016', '712961']\n",
      "['Jul-2016', '-1163797']\n",
      "['Aug-2016', '569899']\n",
      "['Sep-2016', '768450']\n",
      "['Oct-2016', '102685']\n",
      "['Nov-2016', '795914']\n",
      "['Dec-2016', '60988']\n",
      "['Jan-2017', '138230']\n",
      "['Feb-2017', '671099']\n"
     ]
    }
   ],
   "source": [
    "from calendar import monthcalendar\n",
    "\n",
    "\n",
    "with open(relative_csvfilepath, 'r') as csvfile:\n",
    "\n",
    "    # Pass in the csv file to the csv.reader() method\n",
    "    # (with ',' as the delmiter/separator) and return the csvreader object\n",
    "    csvreader = csv.reader(csvfile, delimiter=',')\n",
    "\n",
    "    # Go to the next row from the start of the file\n",
    "    # (which is often the first row/header)\n",
    "    header = next(csvreader)\n",
    "    \n",
    "    # Read the first line so that average change in profit can be calclated \n",
    "    first_record = next(csvreader)\n",
    "\n",
    "    # \n",
    "    prev_monthly_pnl = int(first_record[1])\n",
    "    \n",
    "    # Read each row of data after the first record\n",
    "    for row in csvreader:\n",
    "        number_of_months += 1\n",
    "        # Print the row\n",
    "        print(row)\n",
    "        # Set monthly_pnl variable equal to the value in the 1st column of each row\n",
    "        monthly_pnl = int(row[1])\n",
    "        total_pnl += monthly_pnl\n",
    "        \n",
    "        monthly_pnl_diff = int(row[1]) - prev_monthly_pnl\n",
    "        \n",
    "        # Append the row pnl value to the list of monthly_pnl\n",
    "        pnl_diff_list.append(monthly_pnl_diff)\n",
    "        \n",
    "        \n",
    "        if max_loss_amount == 0:\n",
    "            max_loss_amount = int(row[1])\n",
    "            max_loss_month = row[0]\n",
    "        elif int(row[1]) > max_profit_amount:\n",
    "            max_profit_amount = int(row[1])\n",
    "            max_profit_month = row[0]\n",
    "        elif int(row[1]) < max_loss_amount:\n",
    "            max_loss_amount = int(row[1])\n",
    "            max_loss_month = row[0]\n",
    "        \n",
    "        \n",
    "\n"
   ]
  },
  {
   "cell_type": "markdown",
   "metadata": {},
   "source": [
    "### Calculate Financial Analysis Outputs"
   ]
  },
  {
   "cell_type": "code",
   "execution_count": null,
   "metadata": {},
   "outputs": [],
   "source": [
    "#The average of the changes in Profit/Losses over the entire period.\n",
    "\n",
    "#avg_change_pnl = round(total_pnl / number_of_months, 2)\n",
    "\n",
    "\n",
    "# print(pnl_list)\n",
    "\n",
    "# total = 0\n",
    "# for i in pnl_list:\n",
    "#     total += i\n",
    "\n",
    "# print(\"*** Test: \", round((total / number_of_months),2))    \n",
    "# The greatest increase in profits (date and amount) over the entire period.\n",
    "# The greatest decrease in losses (date and amount) over the entire period.\n",
    "\n",
    "\n",
    "#     # Logic to determine min and max salaries\n",
    "\n",
    "    \n",
    "\n",
    "        "
   ]
  },
  {
   "cell_type": "markdown",
   "metadata": {},
   "source": [
    "### Print Financial Ananlysis Output\n",
    "* The total number of months included in the dataset.\n",
    "\n",
    "* The net total amount of Profit/Losses over the entire period.\n",
    "\n",
    "* The average of the changes in Profit/Losses over the entire period.\n",
    "\n",
    "* The greatest increase in profits (date and amount) over the entire period.\n",
    "\n",
    "* The greatest decrease in losses (date and amount) over the entire period.\n",
    "\n",
    "```\n",
    " Financial Analysis\n",
    "----------------------------\n",
    "Total Months: 86\n",
    "Total: $38382578\n",
    "Average  Change: $-2315.12\n",
    "Greatest Increase in Profits: Feb-2012 ($1926159)\n",
    "Greatest Decrease in Profits: Sep-2013 ($-2196167)\n",
    "```"
   ]
  },
  {
   "cell_type": "code",
   "execution_count": 20,
   "metadata": {},
   "outputs": [
    {
     "name": "stdout",
     "output_type": "stream",
     "text": [
      "[116771, -545871, -937301, -557381, -345027, 165212, -262999, -1084270, -390352, 25926, -948237, -88078, -1203087, -170039, -74721, -382814, -283762, -805155, -199705, 32022, -33165, -735881, -557906, -1623450, 302709, -615096, 283634, -50628, -297127, -361182, -1890418, -392822, -87908, -723709, -325390, -508551, -546415, -800104, -396449, -302281, 4596, -78404, 132058, -2064109, -598887, -1555870, 282577, -185426, -250028, -43786, -285941, -735020, -419822, -178723, -67183, 298759, 79449, -289216, 120621, 271831, 161587, -180351, -1392510, -709264, -780089, -444495, -27161, -299355, -535817, 121615, -89647, -217884, -1968271, -1042830, -110741, -422175, -154923, -2031681, -297985, -99434, -765199, -71970, -806896, -729654, -196785]\n",
      "Financial Analysis \n",
      "----------------------------\n",
      "Total Months:  86\n",
      "Total: $ 38499349\n",
      "Average Change:  0\n",
      "Greatest Increase in Profits: $ 1170593\n",
      "Greatest Decrease in Profits: $ -1196225\n"
     ]
    }
   ],
   "source": [
    "# Output block\n",
    "\n",
    "#print(m_pnl_dataset)\n",
    "\n",
    "print(pnl_diff_list)\n",
    "\n",
    "\n",
    "print('Financial Analysis ')\n",
    "print('----------------------------')\n",
    "print('Total Months: ', number_of_months)\n",
    "print('Total: $',total_pnl)\n",
    "print('Average Change: ', avg_change_pnl)\n",
    "# print('Greatest Increase in Profits: $', max_profit_amount, + '(',max_profit_month,')')\n",
    "# print('Greatest Decrease in Profits: $', max_loss_amount, + '(',max_loss_month,')')\n",
    "print('Greatest Increase in Profits: $', max_profit_amount)\n",
    "print('Greatest Decrease in Profits: $', max_loss_amount)\n",
    "#print(number_of_months)"
   ]
  },
  {
   "cell_type": "code",
   "execution_count": null,
   "metadata": {},
   "outputs": [],
   "source": []
  }
 ],
 "metadata": {
  "kernelspec": {
   "display_name": "Python 3.9.12 ('base')",
   "language": "python",
   "name": "python3"
  },
  "language_info": {
   "codemirror_mode": {
    "name": "ipython",
    "version": 3
   },
   "file_extension": ".py",
   "mimetype": "text/x-python",
   "name": "python",
   "nbconvert_exporter": "python",
   "pygments_lexer": "ipython3",
   "version": "3.9.12"
  },
  "orig_nbformat": 4,
  "vscode": {
   "interpreter": {
    "hash": "c456f17b63525dd1fcde487470240e1db655d3530ed545682dd82e8dd325ec4c"
   }
  }
 },
 "nbformat": 4,
 "nbformat_minor": 2
}
