{
 "cells": [
  {
   "cell_type": "markdown",
   "metadata": {},
   "source": [
    "### Importing libraries for Operating System level operation\n",
    "* os - Library containing Operating System methods\n",
    "* csv - Library containing CSV file methods"
   ]
  },
  {
   "cell_type": "code",
   "execution_count": 134,
   "metadata": {},
   "outputs": [],
   "source": [
    "import os\n",
    "import csv"
   ]
  },
  {
   "cell_type": "markdown",
   "metadata": {},
   "source": []
  },
  {
   "cell_type": "markdown",
   "metadata": {},
   "source": [
    "### Importing libraries for Filesystem Path operations\n",
    "* pathlib - Library containing Filesystem Path methods"
   ]
  },
  {
   "cell_type": "code",
   "execution_count": 135,
   "metadata": {},
   "outputs": [],
   "source": [
    "from pathlib import Path "
   ]
  },
  {
   "cell_type": "markdown",
   "metadata": {},
   "source": [
    "### Initialising variables and setting Path to dataset location"
   ]
  },
  {
   "cell_type": "code",
   "execution_count": 136,
   "metadata": {},
   "outputs": [],
   "source": [
    "\n",
    "relative_csvfilepath = Path(\"./Resources/budget_data.csv\") # Relative path to the file\n",
    "\n",
    "m_pnl_dataset = {}          # Initialise Dictionary to hold data to be read in from the CSV file\n",
    "\n",
    "number_of_months = 0        # The total number of months included in the dataset.\n",
    "\n",
    "monthly_pnl = 0             # Individual monthly Profit/Loss\n",
    "\n",
    "prev_monthly_pnl = 0        # Previous Individual monthly Profit/Loss\n",
    "\n",
    "monthly_pnl_diff = 0\n",
    "\n",
    "first_record = []           # First Individual monthly Profit/Loss\n",
    "\n",
    "pnl_diff_list = []          # List of monthly Profit/Loss      \n",
    "\n",
    "total_pnl = 0               # The total profit or loss over the entire period of 'number_of_months'\n",
    "\n",
    "diff_total = 0              # Summing that differences in monthly profits\n",
    "\n",
    "avg_change_pnl = 0          # The average of the changes in Profit/Losses over the entire period.\n",
    "\n",
    "max_profit_amount = 0       # The greatest increase in profits (date and amount) over the entire period.\n",
    "max_profit_month = ''\n",
    "\n",
    "max_loss_amount = 0         # The greatest decrease in losses (date and amount) over the entire period.\n",
    "max_loss_month = ''\n",
    "\n"
   ]
  },
  {
   "cell_type": "markdown",
   "metadata": {},
   "source": [
    "### Import dataset into working memory"
   ]
  },
  {
   "cell_type": "code",
   "execution_count": 137,
   "metadata": {},
   "outputs": [],
   "source": [
    "from calendar import monthcalendar\n",
    "\n",
    "\n",
    "with open(relative_csvfilepath, 'r') as csvfile:\n",
    "\n",
    "    # Pass in the csv file to the csv.reader() method\n",
    "    # (with ',' as the delmiter/separator) and return the csvreader object\n",
    "    csvreader = csv.reader(csvfile, delimiter=',')\n",
    "\n",
    "    # Go to the next row from the start of the file\n",
    "    # (which is often the first row/header)\n",
    "    header = next(csvreader)\n",
    "    \n",
    "    # Read the first line so that average change in profit can be calclated \n",
    "    first_record = next(csvreader)\n",
    "    #3print(first_record)\n",
    "    \n",
    "    #prev_monthly_pnl = int(first_record[1])\n",
    "    number_of_months += 1\n",
    "    monthly_pnl = int(first_record[1])\n",
    "    #print(f\"monthly_pnl: {monthly_pnl}\")\n",
    "          \n",
    "    total_pnl += monthly_pnl                        #increment total monthly PNL\n",
    "    monthly_pnl_diff = int(first_record[1])         # nothing to compare to\n",
    "    #print(f\"monthly_pnl_diff: {monthly_pnl_diff}\")\n",
    "    \n",
    "    pnl_diff_list.append(monthly_pnl_diff)          #add difference to list\n",
    "    #print(f\"pnl_diff_list: {pnl_diff_list}\" )\n",
    "    \n",
    "    prev_monthly_pnl = int(first_record[1])         #setup for the next interation\n",
    "\n",
    "    # Read each row of data after the first record\n",
    "    for row in csvreader:\n",
    "        number_of_months += 1\n",
    "        monthly_pnl = int(row[1])\n",
    "        total_pnl += monthly_pnl \n",
    "        \n",
    "    #    print(row)\n",
    "        \n",
    "        monthly_pnl_diff = monthly_pnl - prev_monthly_pnl\n",
    "    #    print(f\"monthly_pnl_diff: {monthly_pnl_diff}\")\n",
    "        \n",
    "        # Append the row pnl value to the list of monthly_pnl\n",
    "        pnl_diff_list.append(monthly_pnl_diff)\n",
    "               \n",
    "        #update 'prev_monthly_pnl' ready for next iteration\n",
    "        prev_monthly_pnl = monthly_pnl\n",
    "        \n",
    "\n",
    "        # Logic to determine min and max monthly profits\n",
    "\n",
    "        if max_loss_amount == 0:\n",
    "            max_loss_amount = int(row[1])\n",
    "            max_loss_month = row[0]\n",
    "        elif int(row[1]) > max_profit_amount:\n",
    "            max_profit_amount = int(row[1])\n",
    "            max_profit_month = row[0]\n",
    "        elif int(row[1]) < max_loss_amount:\n",
    "            max_loss_amount = int(row[1])\n",
    "            max_loss_month = row[0]\n",
    "        \n",
    "        \n",
    "\n"
   ]
  },
  {
   "cell_type": "markdown",
   "metadata": {},
   "source": [
    "### Calculate Financial Analysis Outputs"
   ]
  },
  {
   "cell_type": "code",
   "execution_count": 138,
   "metadata": {},
   "outputs": [],
   "source": [
    "#The average of the changes in Profit/Losses over the entire period.\n",
    "\n",
    "\n",
    "\n",
    "# diff_total = 0\n",
    "\n",
    "for i in pnl_diff_list:\n",
    "    diff_total = diff_total + i \n",
    "\n",
    "avg_change_pnl = round(diff_total / number_of_months, 2)\n",
    "        "
   ]
  },
  {
   "cell_type": "markdown",
   "metadata": {},
   "source": [
    "### Print Financial Ananlysis Output\n",
    "* The total number of months included in the dataset.\n",
    "\n",
    "* The net total amount of Profit/Losses over the entire period.\n",
    "\n",
    "* The average of the changes in Profit/Losses over the entire period.\n",
    "\n",
    "* The greatest increase in profits (date and amount) over the entire period.\n",
    "\n",
    "* The greatest decrease in losses (date and amount) over the entire period.\n",
    "\n",
    "```\n",
    " Financial Analysis\n",
    "----------------------------\n",
    "Total Months: 86\n",
    "Total: $38382578\n",
    "Average  Change: $-2315.12\n",
    "Greatest Increase in Profits: Feb-2012 ($1926159)\n",
    "Greatest Decrease in Profits: Sep-2013 ($-2196167)\n",
    "```"
   ]
  },
  {
   "cell_type": "code",
   "execution_count": 139,
   "metadata": {},
   "outputs": [
    {
     "name": "stdout",
     "output_type": "stream",
     "text": [
      "Financial Analysis \n",
      "----------------------------\n",
      "Total Months:  86\n",
      "Total: $ 38382578\n",
      "Average Change:  7803.48\n",
      "Greatest Increase in Profits: Feb-2012 ($1170593)\n",
      "Greatest Decrease in Profits: Sep-2013 ($-1196225)\n"
     ]
    }
   ],
   "source": [
    "# Output block\n",
    "\n",
    "#print(f\"pnl_diff_list: {pnl_diff_list}\")\n",
    "\n",
    "\n",
    "print('Financial Analysis ')\n",
    "print('----------------------------')\n",
    "print('Total Months: ', number_of_months)\n",
    "print('Total: $',total_pnl)\n",
    "print('Average Change: ', avg_change_pnl)\n",
    "# print('Greatest Increase in Profits: $', max_profit_amount, + '(',max_profit_month,')')\n",
    "# print('Greatest Decrease in Profits: $', max_loss_amount, + '(',max_loss_month,')')\n",
    "print(f'Greatest Increase in Profits: {max_profit_month} (${max_profit_amount})')\n",
    "print(f'Greatest Decrease in Profits: {max_loss_month} (${max_loss_amount})')\n",
    "#print(number_of_months)"
   ]
  },
  {
   "cell_type": "markdown",
   "metadata": {},
   "source": [
    "# Write Financial Analysis to file"
   ]
  },
  {
   "cell_type": "code",
   "execution_count": null,
   "metadata": {},
   "outputs": [],
   "source": [
    "relative_txtfilepath = Path(\"./Resources/financial_analysis.txt\") # Relative path to the file\n",
    "\n",
    "with open(relative_txtfilepath, \"w\") as txt_file:\n",
    "    txt_file.write('Financial Analysis ')\n",
    "    txt_file.write('----------------------------')\n",
    "    txt_file.write('Total Months: ', number_of_months)\n",
    "    txt_file.write('Total: $',total_pnl)\n",
    "    txt_file.write('Average Change: ', avg_change_pnl)\n",
    "    txt_file.write(f'Greatest Increase in Profits: {max_profit_month} (${max_profit_amount})')\n",
    "    txt_file.write(f'Greatest Decrease in Profits: {max_loss_month} (${max_loss_amount})')\n"
   ]
  },
  {
   "cell_type": "markdown",
   "metadata": {},
   "source": []
  }
 ],
 "metadata": {
  "kernelspec": {
   "display_name": "Python 3.9.12 ('base')",
   "language": "python",
   "name": "python3"
  },
  "language_info": {
   "codemirror_mode": {
    "name": "ipython",
    "version": 3
   },
   "file_extension": ".py",
   "mimetype": "text/x-python",
   "name": "python",
   "nbconvert_exporter": "python",
   "pygments_lexer": "ipython3",
   "version": "3.9.12"
  },
  "orig_nbformat": 4,
  "vscode": {
   "interpreter": {
    "hash": "c456f17b63525dd1fcde487470240e1db655d3530ed545682dd82e8dd325ec4c"
   }
  }
 },
 "nbformat": 4,
 "nbformat_minor": 2
}
